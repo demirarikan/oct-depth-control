{
 "cells": [
  {
   "cell_type": "code",
   "execution_count": 50,
   "metadata": {},
   "outputs": [],
   "source": [
    "import os\n",
    "import re\n",
    "from collections import Counter\n",
    "\n",
    "import cv2\n",
    "import numpy as np\n",
    "import open3d as o3d\n",
    "import matplotlib.pyplot as plt"
   ]
  },
  {
   "cell_type": "code",
   "execution_count": 51,
   "metadata": {},
   "outputs": [],
   "source": [
    "_nsre = re.compile('([0-9]+)')\n",
    "def natural_sort_key(s):\n",
    "    return [int(text) if text.isdigit() else text.lower()\n",
    "            for text in re.split(_nsre, s)]  \n",
    "\n",
    "segmented_images_path = '/home/demir/Desktop/jhu_project/needle-segmentation/data/test_seg_res'\n",
    "oct_images_path = '/home/demir/Desktop/jhu_project/oct_scans/jun11/2.1/images'\n",
    "\n",
    "num_b_scans_volume = 5\n",
    "target_depth = 0.5\n",
    "\n",
    "seg_masks = [(cv2.imread(os.path.join(segmented_images_path, img), cv2.IMREAD_UNCHANGED)) for img in sorted(os.listdir(segmented_images_path), key=natural_sort_key)]\n",
    "oct_images = [cv2.imread(os.path.join(oct_images_path, img), cv2.IMREAD_GRAYSCALE) for img in sorted(os.listdir(oct_images_path), key=natural_sort_key)]"
   ]
  },
  {
   "cell_type": "code",
   "execution_count": 52,
   "metadata": {},
   "outputs": [
    {
     "name": "stdout",
     "output_type": "stream",
     "text": [
      "(5, 1024, 1024)\n",
      "[0 1 2 3]\n"
     ]
    }
   ],
   "source": [
    "seg_volume = np.stack(seg_masks[0:5], axis=0)\n",
    "print(seg_volume.shape)\n",
    "print(np.unique(seg_volume))"
   ]
  },
  {
   "cell_type": "code",
   "execution_count": 87,
   "metadata": {},
   "outputs": [],
   "source": [
    "def get_points_and_colors(volume, values=[1, 2, 3]):\n",
    "    z_dim, x_dim, _ = volume.shape\n",
    "    first_occurrences = np.empty((0,3))\n",
    "    point_colors = np.empty((0,3))\n",
    "    for z in range(z_dim):\n",
    "        for x in range(x_dim):\n",
    "            ascan = volume[z, :, x]\n",
    "            for seg_id in values:\n",
    "                if seg_id == 1:\n",
    "                    color = np.array([1, 0, 0])\n",
    "                elif seg_id == 2:\n",
    "                    color = np.array([0, 1, 0])\n",
    "                elif seg_id == 3:\n",
    "                    color = np.array([0, 0, 1])\n",
    "                else:\n",
    "                    color = np.array([0, 0, 0])\n",
    "                \n",
    "                first_occurrence = np.argwhere(ascan==seg_id)\n",
    "                if first_occurrence.size > 0:\n",
    "                    first_occurrences = np.vstack((first_occurrences, np.array([z, first_occurrence[0][0], x])))\n",
    "                    point_colors = np.vstack((point_colors, color))\n",
    "\n",
    "    return first_occurrences, point_colors\n",
    "\n",
    "def get_depth_map(volume, seg_index):\n",
    "    z_dim, x_dim, _ = volume.shape\n",
    "    depth_map = np.zeros((z_dim, x_dim))\n",
    "    for z in range(z_dim):\n",
    "        for x in range(x_dim):\n",
    "            ascan = volume[z, :, x]\n",
    "            first_occurrence = np.argwhere(ascan==seg_index)\n",
    "            if first_occurrence.size > 0:\n",
    "                depth_map[z, x] = first_occurrence[0][0]\n",
    "    return depth_map\n",
    "\n",
    "def inpaint_layers(ilm_depth_map, rpe_depth_map):\n",
    "    ilm_depth_map_max = ilm_depth_map.max()\n",
    "    rpe_depth_map_max = rpe_depth_map.max()\n",
    "    # normalize\n",
    "    ilm_depth_map = ilm_depth_map / ilm_depth_map_max\n",
    "    rpe_depth_map = rpe_depth_map / rpe_depth_map_max\n",
    "    # create inpainting masks\n",
    "    ilm_inpainting_mask = np.where(ilm_depth_map == 0, 1, 0).astype(np.uint8)\n",
    "    rpe_inpainting_mask = np.where(rpe_depth_map == 0, 1, 0).astype(np.uint8)\n",
    "    # inpaint\n",
    "    inpaint_ilm = cv2.inpaint(ilm_depth_map.astype(np.float32), ilm_inpainting_mask, 3, cv2.INPAINT_NS)\n",
    "    inpaint_rpe = cv2.inpaint(rpe_depth_map.astype(np.float32), rpe_inpainting_mask, 3, cv2.INPAINT_NS)\n",
    "    # denormalize\n",
    "    inpaint_ilm = inpaint_ilm * ilm_depth_map_max\n",
    "    inpaint_rpe = inpaint_rpe * rpe_depth_map_max\n",
    "\n",
    "    ilm_points = np.empty((0,3))\n",
    "    rpe_points = np.empty((0,3))\n",
    "    for i in range(inpaint_ilm.shape[0]):\n",
    "        for j in range(inpaint_ilm.shape[1]):\n",
    "            # ilm and rpe final points for 3d visualization\n",
    "            ilm_point = np.array([i, inpaint_ilm[i, j], j])\n",
    "            ilm_points = np.vstack((ilm_points, ilm_point))\n",
    "\n",
    "            rpe_point = np.array([i, inpaint_rpe[i, j], j])\n",
    "            rpe_points = np.vstack((rpe_points, rpe_point))\n",
    "\n",
    "    return ilm_points, rpe_points\n",
    "\n",
    "def remove_outliers(point_cloud, nb_points=5, radius=4):\n",
    "    cl, ind = point_cloud.remove_radius_outlier(nb_points=nb_points, radius=radius)\n",
    "    return point_cloud.select_by_index(ind)\n",
    "\n",
    "def get_largest_cluster(point_cloud, eps=5, min_points=10):\n",
    "    labels = np.array(point_cloud.cluster_dbscan(eps=eps, min_points=min_points, print_progress=False))\n",
    "    largest_cluster_label =  Counter(labels).most_common(1)[0][0]\n",
    "    largest_cluster_indices = np.where(labels == largest_cluster_label)\n",
    "    return point_cloud.select_by_index(largest_cluster_indices[0])\n",
    "\n",
    "def find_lowest_point(point_cloud):\n",
    "    np_points = np.asarray(point_cloud.points)\n",
    "    lowest_index = np.argmax(np_points, axis=0)[2]\n",
    "    lowest_coords = np_points[lowest_index, :]\n",
    "    return lowest_coords\n",
    "\n",
    "def find_needle_tip(needle_point_cloud, return_clean_point_cloud=False):\n",
    "    needle_point_cloud = remove_outliers(needle_point_cloud, nb_points=5, radius=4)\n",
    "    needle_point_cloud = get_largest_cluster(needle_point_cloud, eps=5, min_points=10)\n",
    "    needle_tip_coords = find_lowest_point(needle_point_cloud)\n",
    "    if return_clean_point_cloud:\n",
    "        return needle_tip_coords, needle_point_cloud\n",
    "    else:\n",
    "        return needle_tip_coords\n",
    "    \n",
    "def create_mesh_sphere(center, radius=3, color=[1., 0., 1.]):\n",
    "    \"\"\"\n",
    "    Create a mesh sphere with the given center, radius, and color.\n",
    "\n",
    "    Parameters:\n",
    "    - center (list): The center coordinates of the sphere in the form [slice, x, y].\n",
    "    - radius (float): The radius of the sphere.\n",
    "    - color (list): The color of the sphere in RGB format, with values ranging from 0 to 1.\n",
    "\n",
    "    Returns:\n",
    "    - mesh_sphere (o3d.geometry.TriangleMesh): The created mesh sphere.\n",
    "    \"\"\"\n",
    "\n",
    "    mesh_sphere = o3d.geometry.TriangleMesh.create_sphere(radius=radius)\n",
    "    mesh_sphere.paint_uniform_color(color)\n",
    "\n",
    "    your_transform = np.asarray(\n",
    "                    [[1., 0., 0., center[0]],\n",
    "                    [0., 1., 0.,  center[1]],\n",
    "                    [0., 0.,  1., center[2]],\n",
    "                    [0., 0., 0., 1.0]])\n",
    "    mesh_sphere.transform(your_transform)\n",
    "    return mesh_sphere"
   ]
  },
  {
   "cell_type": "code",
   "execution_count": 91,
   "metadata": {},
   "outputs": [],
   "source": [
    "# create needle point cloud and find needle tip\n",
    "needle_first_occ_coords, needle_colors = get_points_and_colors(seg_volume, values=[1])\n",
    "needle_point_cloud = o3d.geometry.PointCloud()\n",
    "needle_point_cloud.points = o3d.utility.Vector3dVector(needle_first_occ_coords)\n",
    "needle_colors = np.array([[1, 0, 0] for _ in range(needle_first_occ_coords.shape[0])])\n",
    "needle_point_cloud.colors = o3d.utility.Vector3dVector(needle_colors)\n",
    "\n",
    "needle_tip_coords, needle_point_cloud = find_needle_tip(needle_point_cloud, return_clean_point_cloud=True)\n",
    "\n",
    "# inpaint layers\n",
    "ilm_depth_map = get_depth_map(seg_volume, seg_index=2)\n",
    "rpe_depth_map = get_depth_map(seg_volume, seg_index=3)\n",
    "\n",
    "assert ilm_depth_map.shape == rpe_depth_map.shape\n",
    "\n",
    "ilm_points, rpe_points = inpaint_layers(ilm_depth_map, rpe_depth_map)\n",
    "\n",
    "ilm_colors = np.array([[0, 1, 0] for _ in range(ilm_points.shape[0])])\n",
    "rpe_colors = np.array([[0, 0, 1] for _ in range(rpe_points.shape[0])])\n",
    "\n",
    "# create layers point cloud\n",
    "layers_point_cloud = o3d.geometry.PointCloud()\n",
    "layers_point_cloud.points = o3d.utility.Vector3dVector(np.vstack((ilm_points, rpe_points)))\n",
    "layers_point_cloud.colors = o3d.utility.Vector3dVector(np.vstack((ilm_colors, rpe_colors)))\n",
    "\n",
    "# create needle tip annotation\n",
    "needle_tip_sphere = create_mesh_sphere(needle_tip_coords)\n",
    "\n",
    "vis = o3d.visualization.Visualizer()\n",
    "\n",
    "vis.create_window()\n",
    "vis.add_geometry(needle_point_cloud)\n",
    "vis.add_geometry(layers_point_cloud)\n",
    "vis.add_geometry(needle_tip_sphere)   \n",
    "vis.run()\n",
    "vis.destroy_window()"
   ]
  },
  {
   "cell_type": "code",
   "execution_count": 84,
   "metadata": {},
   "outputs": [],
   "source": [
    "needle_first_occ, needle_colors = get_points_and_colors(seg_volume, values=[1])\n",
    "ilm_first_occ, ilm_colors = get_points_and_colors(seg_volume, values=[2])\n",
    "rpe_first_occ, rpe_colors = get_points_and_colors(seg_volume, values=[3])"
   ]
  },
  {
   "cell_type": "markdown",
   "metadata": {},
   "source": [
    "### Create needle point cloud"
   ]
  },
  {
   "cell_type": "code",
   "execution_count": 85,
   "metadata": {},
   "outputs": [],
   "source": [
    "needle_point_cloud = o3d.geometry.PointCloud()\n",
    "\n",
    "needle_point_cloud.points = o3d.utility.Vector3dVector(needle_first_occ)\n",
    "needle_point_cloud.colors = o3d.utility.Vector3dVector(needle_colors)"
   ]
  },
  {
   "cell_type": "markdown",
   "metadata": {},
   "source": [
    "### Apply outlier removal to needle point cloud\n",
    "Needle is more prone to errors"
   ]
  },
  {
   "cell_type": "code",
   "execution_count": 56,
   "metadata": {},
   "outputs": [],
   "source": [
    "cl, ind = needle_point_cloud.remove_radius_outlier(nb_points=5, radius=4)\n",
    "needle_point_cloud = needle_point_cloud.select_by_index(ind)"
   ]
  },
  {
   "cell_type": "markdown",
   "metadata": {},
   "source": [
    "### Clustering using dbscan"
   ]
  },
  {
   "cell_type": "code",
   "execution_count": 57,
   "metadata": {},
   "outputs": [
    {
     "name": "stdout",
     "output_type": "stream",
     "text": [
      "Precompute neighbors.[========================================] 100%\n",
      "Clustering[======================================> ] 95%\r"
     ]
    }
   ],
   "source": [
    "labels = np.array(needle_point_cloud.cluster_dbscan(eps=5, min_points=10, print_progress=True))\n",
    "\n",
    "# Find and select largest cluster label. Filter point cloud with label indexes\n",
    "print(labels.shape)\n",
    "counter = Counter(labels)\n",
    "print(counter)\n",
    "largest_cluster_label = counter.most_common(1)[0][0]\n",
    "print(largest_cluster_label)\n",
    "\n",
    "largest_cluster_indices = np.where(labels == largest_cluster_label)\n",
    "print(largest_cluster_indices[0].shape)\n",
    "\n",
    "needle_point_cloud = needle_point_cloud.select_by_index(largest_cluster_indices[0])"
   ]
  },
  {
   "cell_type": "markdown",
   "metadata": {},
   "source": [
    "### Find needle tip\n",
    "Assumption: Needle tip is the lowest point in the largest cluster"
   ]
  },
  {
   "cell_type": "code",
   "execution_count": 60,
   "metadata": {},
   "outputs": [
    {
     "name": "stdout",
     "output_type": "stream",
     "text": [
      "(390, 3)\n",
      "283\n",
      "[  1. 207. 641.]\n"
     ]
    }
   ],
   "source": [
    "print(np.asarray(needle_point_cloud.points).shape)\n",
    "\n",
    "lowest_coord_index = np.argmax(np.asarray(needle_point_cloud.points), axis=0)[2]\n",
    "print(lowest_coord_index)\n",
    "lowest_zxy = np.asarray(needle_point_cloud.points)[lowest_coord_index, :]\n",
    "print(lowest_zxy)\n"
   ]
  },
  {
   "cell_type": "markdown",
   "metadata": {},
   "source": [
    "### Navier strokes in painting for ILM and RPE"
   ]
  },
  {
   "cell_type": "code",
   "execution_count": 61,
   "metadata": {},
   "outputs": [],
   "source": [
    "ilm_depth_map = get_depth_map(seg_volume, 2)\n",
    "rpe_depth_map = get_depth_map(seg_volume, 3)\n",
    "\n",
    "assert ilm_depth_map.shape == rpe_depth_map.shape\n",
    "\n",
    "ilm_points, rpe_points = inpaint_layers(ilm_depth_map, rpe_depth_map)\n",
    "ilm_colors = np.array([[0, 1, 0] for _ in range(ilm_points.shape[0])])\n",
    "rpe_colors = np.array([[0, 0, 1] for _ in range(rpe_points.shape[0])])"
   ]
  },
  {
   "cell_type": "markdown",
   "metadata": {},
   "source": [
    "### combine ilm and rpe point clouds and visualize everything together"
   ]
  },
  {
   "cell_type": "code",
   "execution_count": 62,
   "metadata": {},
   "outputs": [],
   "source": [
    "layers_point_cloud = o3d.geometry.PointCloud()\n",
    "\n",
    "layers_points = np.vstack((ilm_points, rpe_points))\n",
    "layers_colors = np.vstack((ilm_colors, rpe_colors))\n",
    "\n",
    "layers_point_cloud.points = o3d.utility.Vector3dVector(layers_points)\n",
    "layers_point_cloud.colors = o3d.utility.Vector3dVector(layers_colors)\n",
    "\n",
    "# o3d.visualization.draw_geometries([needle_point_cloud, layers_point_cloud])"
   ]
  },
  {
   "cell_type": "markdown",
   "metadata": {},
   "source": [
    "### Create sphere to mark needle tip point"
   ]
  },
  {
   "cell_type": "code",
   "execution_count": 80,
   "metadata": {},
   "outputs": [
    {
     "data": {
      "text/plain": [
       "TriangleMesh with 762 points and 1520 triangles."
      ]
     },
     "execution_count": 80,
     "metadata": {},
     "output_type": "execute_result"
    }
   ],
   "source": [
    "mesh_sphere = o3d.geometry.TriangleMesh.create_sphere(radius=3.0)\n",
    "mesh_sphere.paint_uniform_color([1., 0., 1.])\n",
    "\n",
    "your_transform = np.asarray(\n",
    "                [[1., 0., 0.,  1.],\n",
    "                [0., 1., 0.,  207.],\n",
    "                [0., 0.,  1., 641.],\n",
    "                [0., 0., 0., 1.0]])\n",
    "mesh_sphere.transform(your_transform)"
   ]
  },
  {
   "cell_type": "code",
   "execution_count": 81,
   "metadata": {},
   "outputs": [],
   "source": [
    "vis = o3d.visualization.Visualizer()\n",
    "\n",
    "vis.create_window()\n",
    "vis.add_geometry(needle_point_cloud)\n",
    "vis.add_geometry(layers_point_cloud)\n",
    "vis.add_geometry(mesh_sphere)   \n",
    "\n",
    "# options = vis.get_render_option()\n",
    "# options.load_from_json(\"render_option.json\")\n",
    "vis.run()\n",
    "vis.destroy_window()"
   ]
  },
  {
   "cell_type": "markdown",
   "metadata": {},
   "source": [
    "## All point clouds unedited for reference"
   ]
  },
  {
   "cell_type": "code",
   "execution_count": 82,
   "metadata": {},
   "outputs": [],
   "source": [
    "all_point_cloud = o3d.geometry.PointCloud()\n",
    "\n",
    "all_points = np.vstack((needle_first_occ, ilm_first_occ, rpe_first_occ))\n",
    "all_colors = np.vstack((needle_colors, ilm_colors, rpe_colors))\n",
    "\n",
    "# Convert the non-zero coordinates to a point cloud\n",
    "all_point_cloud.points = o3d.utility.Vector3dVector(all_points)\n",
    "all_point_cloud.colors = o3d.utility.Vector3dVector(all_colors)\n",
    "o3d.visualization.draw_geometries([all_point_cloud])"
   ]
  },
  {
   "cell_type": "markdown",
   "metadata": {},
   "source": [
    "#### Outlier removal on whole point cloud"
   ]
  },
  {
   "cell_type": "code",
   "execution_count": 50,
   "metadata": {},
   "outputs": [],
   "source": [
    "cl, ind = all_point_cloud.remove_statistical_outlier(nb_neighbors=20, std_ratio=0.7)\n",
    "point_cloud = all_point_cloud.select_by_index(ind)\n",
    "o3d.visualization.draw_geometries([point_cloud])"
   ]
  }
 ],
 "metadata": {
  "kernelspec": {
   "display_name": "needle-seg",
   "language": "python",
   "name": "python3"
  },
  "language_info": {
   "codemirror_mode": {
    "name": "ipython",
    "version": 3
   },
   "file_extension": ".py",
   "mimetype": "text/x-python",
   "name": "python",
   "nbconvert_exporter": "python",
   "pygments_lexer": "ipython3",
   "version": "3.12.2"
  }
 },
 "nbformat": 4,
 "nbformat_minor": 2
}
