{
 "cells": [
  {
   "cell_type": "code",
   "execution_count": 1,
   "metadata": {},
   "outputs": [],
   "source": [
    "import os\n",
    "import numpy as np\n",
    "import cv2\n",
    "import matplotlib.pyplot as plt\n",
    "\n",
    "np.set_printoptions(precision=2, suppress=True)"
   ]
  },
  {
   "cell_type": "markdown",
   "metadata": {},
   "source": [
    "Segmentation masks:\n",
    "\n",
    "0: background\n",
    "\n",
    "1: tool\n",
    "\n",
    "2: ILM\n",
    "\n",
    "3: RPE\n"
   ]
  },
  {
   "cell_type": "code",
   "execution_count": 2,
   "metadata": {},
   "outputs": [],
   "source": [
    "masks_path = '/home/demir/Desktop/jhu_project/oct-depth-control/data/may21-1/masks_machine'\n",
    "masks = []\n",
    "for mask_img in os.listdir(masks_path):\n",
    "    mask = cv2.imread(os.path.join(masks_path, mask_img), cv2.IMREAD_GRAYSCALE)\n",
    "    masks.append(mask)"
   ]
  },
  {
   "cell_type": "code",
   "execution_count": 28,
   "metadata": {},
   "outputs": [
    {
     "name": "stdout",
     "output_type": "stream",
     "text": [
      "[0 1 2 3]\n"
     ]
    },
    {
     "data": {
      "text/plain": [
       "<matplotlib.image.AxesImage at 0x7c7a6dacb560>"
      ]
     },
     "execution_count": 28,
     "metadata": {},
     "output_type": "execute_result"
    },
    {
     "data": {
      "image/png": "[encoded data removed]",
      "text/plain": [
       "<Figure size 640x480 with 1 Axes>"
      ]
     },
     "metadata": {},
     "output_type": "display_data"
    }
   ],
   "source": [
    "test_img = cv2.imread('/home/demir/Desktop/jhu_project/oct-depth-control/data/may21-1/masks_machine/volume_0_slice_2.png', cv2.IMREAD_GRAYSCALE)\n",
    "print(np.unique(test_img))\n",
    "filtered_img = (test_img == 1).astype(int)\n",
    "plt.imshow(test_img)"
   ]
  },
  {
   "cell_type": "code",
   "execution_count": 43,
   "metadata": {},
   "outputs": [],
   "source": [
    "def find_layers_coords(image, a_scan):\n",
    "    try:\n",
    "        ilm_row = np.where(image[:, a_scan] == 2)[0][0]\n",
    "        rpe_row = np.where(image[:, a_scan] == 3)[0][0]\n",
    "        return a_scan, ilm_row, rpe_row\n",
    "    except IndexError:\n",
    "        print('ILM or RPE not visible under needle tip')\n",
    "        left = find_layers_coords(image, a_scan-1)\n",
    "        right = find_layers_coords(image, a_scan+1)\n",
    "        closest_scan = left if abs(left[0] - a_scan) < abs(right[0] - a_scan) else right\n",
    "        return closest_scan\n",
    "    \n",
    "\n",
    "def calc_normalized_pos_between_layers(ilm_row, rpe_row, needle_tip_row):\n",
    "    if needle_tip_row < ilm_row:\n",
    "        print('needle tip is above ILM')\n",
    "        return 0\n",
    "    elif needle_tip_row > rpe_row:\n",
    "        print('needle tip is below RPE')\n",
    "        return 1\n",
    "    return (needle_tip_row - ilm_row) / (rpe_row - ilm_row)\n",
    "\n",
    "def volume_find_needle_tip_largest_component(segmented_b_scans, needle_label=1, min_area=150):\n",
    "    largest_component_area = 0\n",
    "    needle_tip_largest_component = None\n",
    "    slice_idx_largest_component = -1\n",
    "    for slice_idx, b_scan in enumerate(segmented_b_scans):\n",
    "        needle_mask = (b_scan == needle_label).astype(np.uint8) * 255\n",
    "\n",
    "        # Morphological opening to remove small noise\n",
    "        kernel = cv2.getStructuringElement(cv2.MORPH_ELLIPSE, (3, 3))\n",
    "        cleaned_mask = cv2.morphologyEx(needle_mask, cv2.MORPH_OPEN, kernel)\n",
    "\n",
    "        num_labels, labels, stats, centroids = cv2.connectedComponentsWithStats(cleaned_mask, connectivity=8)\n",
    "\n",
    "        # remove components with bounding box area less than min_area\n",
    "        valid_components = [(i, stats[i, cv2.CC_STAT_AREA]) for i in range(1, num_labels) if stats[i, cv2.CC_STAT_AREA] >= min_area]\n",
    "\n",
    "        if valid_components:\n",
    "            # tuple with component index and area \n",
    "            largest_component = max(valid_components, key=lambda x: x[1])\n",
    "\n",
    "            if largest_component[1] > largest_component_area:\n",
    "                component_label, largest_component_area = largest_component\n",
    "                component_mask = (labels == component_label)\n",
    "                y_coords, x_coords = np.where(component_mask)\n",
    "                lowest_pixel = np.argmax(y_coords)\n",
    "                needle_tip = (x_coords[lowest_pixel], y_coords[lowest_pixel])\n",
    "                needle_tip_largest_component = needle_tip\n",
    "                slice_idx_largest_component = slice_idx\n",
    "\n",
    "    return (slice_idx_largest_component, needle_tip_largest_component)\n"
   ]
  },
  {
   "cell_type": "code",
   "execution_count": null,
   "metadata": {},
   "outputs": [],
   "source": [
    "# example usage\n",
    "# target depth should be selected by the user in the beginning\n",
    "target_depth = 0.5\n",
    "# Segmented b-scans should come from the network as a list\n",
    "segmented_b_scans = [] # N b-scans, N: number of b-scans in volume, each b-scan is a 2D numpy array\n",
    "slice_idx, needle_tip = volume_find_needle_tip_largest_component(segmented_b_scans) \n",
    "a_scan, ilm_row, rpe_row = find_layers_coords(segmented_b_scans[slice_idx], needle_tip[0])\n",
    "normalized_pos = calc_normalized_pos_between_layers(ilm_row, rpe_row, needle_tip[1])\n",
    "if normalized_pos >= target_depth:\n",
    "    print('needle tip is at or below target depth')"
   ]
  }
 ],
 "metadata": {
  "kernelspec": {
   "display_name": "bleb-seg",
   "language": "python",
   "name": "python3"
  },
  "language_info": {
   "codemirror_mode": {
    "name": "ipython",
    "version": 3
   },
   "file_extension": ".py",
   "mimetype": "text/x-python",
   "name": "python",
   "nbconvert_exporter": "python",
   "pygments_lexer": "ipython3",
   "version": "3.12.2"
  }
 },
 "nbformat": 4,
 "nbformat_minor": 2
}
