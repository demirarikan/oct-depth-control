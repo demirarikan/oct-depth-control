{
 "cells": [
  {
   "cell_type": "code",
   "execution_count": 10,
   "metadata": {},
   "outputs": [],
   "source": [
    "import os\n",
    "import re\n",
    "from collections import Counter\n",
    "\n",
    "import cv2\n",
    "import numpy as np\n",
    "import open3d as o3d\n",
    "\n",
    "from oct_point_cloud import (create_mesh_sphere, create_point_cloud_from_vol,\n",
    "                             find_lowest_point, get_depth_map,\n",
    "                             get_largest_cluster, get_points_and_colors,\n",
    "                             inpaint_layers, needle_cloud_find_needle_tip,\n",
    "                             remove_outliers, calculate_needle_tip_depth)"
   ]
  },
  {
   "cell_type": "code",
   "execution_count": 3,
   "metadata": {},
   "outputs": [],
   "source": [
    "_nsre = re.compile('([0-9]+)')\n",
    "def natural_sort_key(s):\n",
    "    return [int(text) if text.isdigit() else text.lower()\n",
    "            for text in re.split(_nsre, s)]  \n",
    "\n",
    "segmented_images_path = '/home/demir/Desktop/jhu_project/needle-segmentation/data/test_seg_res'\n",
    "oct_images_path = '/home/demir/Desktop/jhu_project/oct_scans/jun11/2.1/images'\n",
    "\n",
    "num_b_scans_volume = 5\n",
    "target_depth = 0.5\n",
    "\n",
    "seg_masks = [(cv2.imread(os.path.join(segmented_images_path, img), cv2.IMREAD_UNCHANGED)) for img in sorted(os.listdir(segmented_images_path), key=natural_sort_key)]\n",
    "oct_images = [cv2.imread(os.path.join(oct_images_path, img), cv2.IMREAD_GRAYSCALE) for img in sorted(os.listdir(oct_images_path), key=natural_sort_key)]"
   ]
  },
  {
   "cell_type": "code",
   "execution_count": 4,
   "metadata": {},
   "outputs": [
    {
     "name": "stdout",
     "output_type": "stream",
     "text": [
      "(5, 1024, 1024)\n",
      "[0 1 2 3]\n"
     ]
    }
   ],
   "source": [
    "seg_idx = 8\n",
    "seg_volume = np.stack(seg_masks[seg_idx*num_b_scans_volume:(seg_idx+1)*num_b_scans_volume], axis=0)\n",
    "print(seg_volume.shape)\n",
    "print(np.unique(seg_volume))"
   ]
  },
  {
   "cell_type": "code",
   "execution_count": 5,
   "metadata": {},
   "outputs": [
    {
     "name": "stdout",
     "output_type": "stream",
     "text": [
      "needle tip coords: [  0. 361. 755.]\n"
     ]
    }
   ],
   "source": [
    "needle_point_cloud = create_point_cloud_from_vol(seg_volume, seg_index=[1])\n",
    "\n",
    "needle_tip_coords, cleaned_needle_point_cloud = needle_cloud_find_needle_tip(needle_point_cloud, return_clean_point_cloud=True)\n",
    "\n",
    "# inpaint layers\n",
    "ilm_depth_map = get_depth_map(seg_volume, seg_index=2)\n",
    "rpe_depth_map = get_depth_map(seg_volume, seg_index=3)\n",
    "\n",
    "assert ilm_depth_map.shape == rpe_depth_map.shape\n",
    "\n",
    "ilm_points, rpe_points = inpaint_layers(ilm_depth_map, rpe_depth_map)\n",
    "\n",
    "ilm_colors = np.array([[0, 1, 0] for _ in range(ilm_points.shape[0])])\n",
    "rpe_colors = np.array([[0, 0, 1] for _ in range(rpe_points.shape[0])])\n",
    "\n",
    "# create layers point cloud\n",
    "layers_point_cloud = o3d.geometry.PointCloud()\n",
    "layers_point_cloud.points = o3d.utility.Vector3dVector(np.vstack((ilm_points, rpe_points)))\n",
    "layers_point_cloud.colors = o3d.utility.Vector3dVector(np.vstack((ilm_colors, rpe_colors)))\n",
    "\n",
    "print('needle tip coords:', needle_tip_coords)"
   ]
  },
  {
   "cell_type": "code",
   "execution_count": 6,
   "metadata": {},
   "outputs": [
    {
     "name": "stdout",
     "output_type": "stream",
     "text": [
      "[[  0. 291. 755.]] [[  0.         395.00012207 755.        ]]\n"
     ]
    }
   ],
   "source": [
    "# find in the new 3D volume where the pixels corresponding to ilm and rpe are at the needle tip\n",
    "ilm_tip_coords = ilm_points[(ilm_points[:, 0] == needle_tip_coords[0]) & (ilm_points[:, 2] == needle_tip_coords[2])]\n",
    "rpe_tip_coords = rpe_points[(rpe_points[:, 0] == needle_tip_coords[0]) & (rpe_points[:, 2] == needle_tip_coords[2])]\n",
    "\n",
    "print(ilm_tip_coords, rpe_tip_coords)\n",
    "\n",
    "ilm_sphere = create_mesh_sphere(ilm_tip_coords[0], radius=2, color=[0,0,0])\n",
    "rpe_sphere = create_mesh_sphere(rpe_tip_coords[0], radius=2, color=[0,0,0])"
   ]
  },
  {
   "cell_type": "code",
   "execution_count": 11,
   "metadata": {},
   "outputs": [
    {
     "name": "stdout",
     "output_type": "stream",
     "text": [
      "needle tip depth relative percentage: 0.6730761330517895\n"
     ]
    }
   ],
   "source": [
    "_, _, needle_tip_depth_relative_percentage = calculate_needle_tip_depth(needle_tip_coords, ilm_tip_coords[0], rpe_tip_coords[0])\n",
    "print('needle tip depth relative percentage:', needle_tip_depth_relative_percentage)"
   ]
  },
  {
   "cell_type": "code",
   "execution_count": 12,
   "metadata": {},
   "outputs": [
    {
     "data": {
      "text/plain": [
       "TriangleMesh with 102 points and 200 triangles."
      ]
     },
     "execution_count": 12,
     "metadata": {},
     "output_type": "execute_result"
    }
   ],
   "source": [
    "# create needle tip annotation\n",
    "needle_tip_sphere = create_mesh_sphere(needle_tip_coords)\n",
    "\n",
    "# add cylinder goind through needle tip intersecting ilm and rpe\n",
    "ascan_cylinder = o3d.geometry.TriangleMesh.create_cylinder(radius=0.3, height=500)\n",
    "transform = np.array([\n",
    "    [1, 0, 0, needle_tip_coords[0]],\n",
    "    [0, 0, 1, needle_tip_coords[1]],\n",
    "    [0, -1, 0, needle_tip_coords[2]],\n",
    "    [0, 0, 0, 1]\n",
    "])\n",
    "ascan_cylinder.transform(transform)"
   ]
  },
  {
   "cell_type": "code",
   "execution_count": 13,
   "metadata": {},
   "outputs": [],
   "source": [
    "vis = o3d.visualization.Visualizer()\n",
    "\n",
    "vis.create_window()\n",
    "vis.add_geometry(cleaned_needle_point_cloud)\n",
    "vis.add_geometry(layers_point_cloud)\n",
    "\n",
    "vis.add_geometry(needle_tip_sphere)\n",
    "vis.add_geometry(ilm_sphere)\n",
    "vis.add_geometry(rpe_sphere)\n",
    "vis.add_geometry(ascan_cylinder)\n",
    "vis.run()\n",
    "vis.destroy_window()"
   ]
  },
  {
   "cell_type": "code",
   "execution_count": 197,
   "metadata": {},
   "outputs": [
    {
     "name": "stdout",
     "output_type": "stream",
     "text": [
      "point cloud has 5 clustersPrecompute neighbors.[=>                                      ] 2%\n",
      "Precompute neighbors.[========================================] 100%\n",
      "Clustering[==================================>     ] 85%\r"
     ]
    }
   ],
   "source": [
    "# Unchanged point cloud\n",
    "original_needle_pc = create_point_cloud_from_vol(seg_volume, seg_index=[1])\n",
    "original_ilm_pc = create_point_cloud_from_vol(seg_volume, seg_index=[2])\n",
    "original_rpe_pc = create_point_cloud_from_vol(seg_volume, seg_index=[3])\n",
    "\n",
    "noise_removed = remove_outliers(original_needle_pc, nb_points=5, radius=4)\n",
    "\n",
    "labels = np.array(\n",
    "        noise_removed.cluster_dbscan(eps=5, min_points=10, print_progress=True))\n",
    "\n",
    "import matplotlib.pyplot as plt\n",
    "\n",
    "max_label = labels.max()\n",
    "print(f\"point cloud has {max_label + 1} clusters\")\n",
    "colors = plt.get_cmap(\"tab20\")(labels / (max_label if max_label > 0 else 1))\n",
    "colors[labels < 0] = 0\n",
    "noise_removed.colors = o3d.utility.Vector3dVector(colors[:, :3])\n",
    "o3d.visualization.draw_geometries([noise_removed])\n",
    "\n",
    "# o3d.visualization.draw_geometries([original_needle_pc])\n"
   ]
  }
 ],
 "metadata": {
  "kernelspec": {
   "display_name": "needle-seg",
   "language": "python",
   "name": "python3"
  },
  "language_info": {
   "codemirror_mode": {
    "name": "ipython",
    "version": 3
   },
   "file_extension": ".py",
   "mimetype": "text/x-python",
   "name": "python",
   "nbconvert_exporter": "python",
   "pygments_lexer": "ipython3",
   "version": "3.12.2"
  }
 },
 "nbformat": 4,
 "nbformat_minor": 2
}
