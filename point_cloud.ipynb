{
 "cells": [
  {
   "cell_type": "code",
   "execution_count": 11,
   "metadata": {},
   "outputs": [],
   "source": [
    "import os\n",
    "import re\n",
    "from collections import Counter\n",
    "\n",
    "import cv2\n",
    "import numpy as np\n",
    "import open3d as o3d"
   ]
  },
  {
   "cell_type": "code",
   "execution_count": 12,
   "metadata": {},
   "outputs": [],
   "source": [
    "_nsre = re.compile('([0-9]+)')\n",
    "def natural_sort_key(s):\n",
    "    return [int(text) if text.isdigit() else text.lower()\n",
    "            for text in re.split(_nsre, s)]  \n",
    "\n",
    "segmented_images_path = '/home/demir/Desktop/jhu_project/needle-segmentation/data/test_seg_res'\n",
    "oct_images_path = '/home/demir/Desktop/jhu_project/oct_scans/jun11/2.1/images'\n",
    "\n",
    "num_b_scans_volume = 5\n",
    "target_depth = 0.5\n",
    "\n",
    "seg_masks = [(cv2.imread(os.path.join(segmented_images_path, img), cv2.IMREAD_UNCHANGED)) for img in sorted(os.listdir(segmented_images_path), key=natural_sort_key)]\n",
    "oct_images = [cv2.imread(os.path.join(oct_images_path, img), cv2.IMREAD_GRAYSCALE) for img in sorted(os.listdir(oct_images_path), key=natural_sort_key)]"
   ]
  },
  {
   "cell_type": "code",
   "execution_count": 13,
   "metadata": {},
   "outputs": [
    {
     "name": "stdout",
     "output_type": "stream",
     "text": [
      "(5, 1024, 1024)\n",
      "[0 1 2 3]\n"
     ]
    }
   ],
   "source": [
    "seg_idx = 8\n",
    "seg_volume = np.stack(seg_masks[seg_idx*num_b_scans_volume:(seg_idx+1)*num_b_scans_volume], axis=0)\n",
    "print(seg_volume.shape)\n",
    "print(np.unique(seg_volume))"
   ]
  },
  {
   "cell_type": "code",
   "execution_count": 14,
   "metadata": {},
   "outputs": [],
   "source": [
    "def get_points_and_colors(volume, values=[1, 2, 3]):\n",
    "    z_dim, x_dim, _ = volume.shape\n",
    "    first_occurrences = np.empty((0,3))\n",
    "    point_colors = np.empty((0,3))\n",
    "    for z in range(z_dim):\n",
    "        for x in range(x_dim):\n",
    "            ascan = volume[z, :, x]\n",
    "            for seg_id in values:\n",
    "                if seg_id == 1:\n",
    "                    color = np.array([1, 0, 0])\n",
    "                elif seg_id == 2:\n",
    "                    color = np.array([0, 1, 0])\n",
    "                elif seg_id == 3:\n",
    "                    color = np.array([0, 0, 1])\n",
    "                else:\n",
    "                    color = np.array([0, 0, 0])\n",
    "                \n",
    "                first_occurrence = np.argwhere(ascan==seg_id)\n",
    "                if first_occurrence.size > 0:\n",
    "                    first_occurrences = np.vstack((first_occurrences, np.array([z, first_occurrence[0][0], x])))\n",
    "                    point_colors = np.vstack((point_colors, color))\n",
    "\n",
    "    return first_occurrences, point_colors\n",
    "\n",
    "def get_depth_map(volume, seg_index):\n",
    "    z_dim, x_dim, _ = volume.shape\n",
    "    depth_map = np.zeros((z_dim, x_dim))\n",
    "    for z in range(z_dim):\n",
    "        for x in range(x_dim):\n",
    "            ascan = volume[z, :, x]\n",
    "            first_occurrence = np.argwhere(ascan==seg_index)\n",
    "            if first_occurrence.size > 0:\n",
    "                depth_map[z, x] = first_occurrence[0][0]\n",
    "    return depth_map\n",
    "\n",
    "def inpaint_layers(ilm_depth_map, rpe_depth_map):\n",
    "    ilm_depth_map_max = ilm_depth_map.max()\n",
    "    rpe_depth_map_max = rpe_depth_map.max()\n",
    "    # normalize\n",
    "    ilm_depth_map = ilm_depth_map / ilm_depth_map_max\n",
    "    rpe_depth_map = rpe_depth_map / rpe_depth_map_max\n",
    "    # create inpainting masks\n",
    "    ilm_inpainting_mask = np.where(ilm_depth_map == 0, 1, 0).astype(np.uint8)\n",
    "    rpe_inpainting_mask = np.where(rpe_depth_map == 0, 1, 0).astype(np.uint8)\n",
    "    # inpaint\n",
    "    inpaint_ilm = cv2.inpaint(ilm_depth_map.astype(np.float32), ilm_inpainting_mask, 3, cv2.INPAINT_NS)\n",
    "    inpaint_rpe = cv2.inpaint(rpe_depth_map.astype(np.float32), rpe_inpainting_mask, 3, cv2.INPAINT_NS)\n",
    "    # denormalize\n",
    "    inpaint_ilm = inpaint_ilm * ilm_depth_map_max\n",
    "    inpaint_rpe = inpaint_rpe * rpe_depth_map_max\n",
    "\n",
    "    ilm_points = np.empty((0,3))\n",
    "    rpe_points = np.empty((0,3))\n",
    "    for i in range(inpaint_ilm.shape[0]):\n",
    "        for j in range(inpaint_ilm.shape[1]):\n",
    "            # ilm and rpe final points for 3d visualization\n",
    "            ilm_point = np.array([i, inpaint_ilm[i, j], j])\n",
    "            ilm_points = np.vstack((ilm_points, ilm_point))\n",
    "\n",
    "            rpe_point = np.array([i, inpaint_rpe[i, j], j])\n",
    "            rpe_points = np.vstack((rpe_points, rpe_point))\n",
    "\n",
    "    return ilm_points, rpe_points\n",
    "\n",
    "def remove_outliers(point_cloud, nb_points=5, radius=4):\n",
    "    cl, ind = point_cloud.remove_radius_outlier(nb_points=nb_points, radius=radius)\n",
    "    return point_cloud.select_by_index(ind)\n",
    "\n",
    "def get_largest_cluster(point_cloud, eps=5, min_points=10):\n",
    "    labels = np.array(point_cloud.cluster_dbscan(eps=eps, min_points=min_points, print_progress=False))\n",
    "    largest_cluster_label =  Counter(labels).most_common(1)[0][0]\n",
    "    largest_cluster_indices = np.where(labels == largest_cluster_label)\n",
    "    return point_cloud.select_by_index(largest_cluster_indices[0])\n",
    "\n",
    "def find_lowest_point(point_cloud):\n",
    "    np_points = np.asarray(point_cloud.points)\n",
    "    lowest_index = np.argmax(np_points, axis=0)[2]\n",
    "    lowest_coords = np_points[lowest_index, :]\n",
    "    return lowest_coords\n",
    "\n",
    "def needle_cloud_find_needle_tip(needle_point_cloud, return_clean_point_cloud=False):\n",
    "    needle_point_cloud = remove_outliers(needle_point_cloud, nb_points=5, radius=4)\n",
    "    needle_point_cloud = get_largest_cluster(needle_point_cloud, eps=5, min_points=10)\n",
    "    needle_tip_coords = find_lowest_point(needle_point_cloud)\n",
    "    if return_clean_point_cloud:\n",
    "        return needle_tip_coords, needle_point_cloud\n",
    "    else:\n",
    "        return needle_tip_coords\n",
    "\n",
    "def create_point_cloud_from_vol(seg_volume, seg_index):\n",
    "    needle_first_occ_coords, needle_colors = get_points_and_colors(seg_volume, values=seg_index)\n",
    "    needle_point_cloud = o3d.geometry.PointCloud()\n",
    "    needle_point_cloud.points = o3d.utility.Vector3dVector(needle_first_occ_coords)\n",
    "    # needle_colors = np.array([[1, 0, 0] for _ in range(needle_first_occ_coords.shape[0])])\n",
    "    needle_point_cloud.colors = o3d.utility.Vector3dVector(needle_colors)\n",
    "    return needle_point_cloud\n",
    "\n",
    "def create_mesh_sphere(center, radius=3, color=[1., 0., 1.]):\n",
    "    \"\"\"\n",
    "    Create a mesh sphere with the given center, radius, and color.\n",
    "\n",
    "    Parameters:\n",
    "    - center (list): The center coordinates of the sphere in the form [slice, x, y].\n",
    "    - radius (float): The radius of the sphere.\n",
    "    - color (list): The color of the sphere in RGB format, with values ranging from 0 to 1.\n",
    "\n",
    "    Returns:\n",
    "    - mesh_sphere (o3d.geometry.TriangleMesh): The created mesh sphere.\n",
    "    \"\"\"\n",
    "\n",
    "    mesh_sphere = o3d.geometry.TriangleMesh.create_sphere(radius=radius)\n",
    "    mesh_sphere.paint_uniform_color(color)\n",
    "\n",
    "    your_transform = np.asarray(\n",
    "                    [[1., 0., 0., center[0]],\n",
    "                    [0., 1., 0.,  center[1]],\n",
    "                    [0., 0.,  1., center[2]],\n",
    "                    [0., 0., 0., 1.0]])\n",
    "    mesh_sphere.transform(your_transform)\n",
    "    return mesh_sphere \n",
    "\n",
    "def calculate_needle_tip_depth(needle_tip_coords, ilm_coords, rpe_coords):\n",
    "    needle_tip_depth = needle_tip_coords[1]\n",
    "    ilm_depth = ilm_coords[1]\n",
    "    rpe_depth = rpe_coords[1]\n",
    "    ilm_rpe_distance = rpe_depth - ilm_depth\n",
    "    needle_tip_depth_relative = needle_tip_depth - ilm_depth\n",
    "    needle_tip_depth_relative_percentage = needle_tip_depth_relative / ilm_rpe_distance\n",
    "    return needle_tip_depth, needle_tip_depth_relative, needle_tip_depth_relative_percentage"
   ]
  },
  {
   "cell_type": "code",
   "execution_count": 15,
   "metadata": {},
   "outputs": [
    {
     "name": "stdout",
     "output_type": "stream",
     "text": [
      "needle tip coords: [  0. 361. 755.]\n"
     ]
    }
   ],
   "source": [
    "needle_point_cloud = create_point_cloud_from_vol(seg_volume, seg_index=[1])\n",
    "\n",
    "needle_tip_coords, cleaned_needle_point_cloud = needle_cloud_find_needle_tip(needle_point_cloud, return_clean_point_cloud=True)\n",
    "\n",
    "# inpaint layers\n",
    "ilm_depth_map = get_depth_map(seg_volume, seg_index=2)\n",
    "rpe_depth_map = get_depth_map(seg_volume, seg_index=3)\n",
    "\n",
    "assert ilm_depth_map.shape == rpe_depth_map.shape\n",
    "\n",
    "ilm_points, rpe_points = inpaint_layers(ilm_depth_map, rpe_depth_map)\n",
    "\n",
    "ilm_colors = np.array([[0, 1, 0] for _ in range(ilm_points.shape[0])])\n",
    "rpe_colors = np.array([[0, 0, 1] for _ in range(rpe_points.shape[0])])\n",
    "\n",
    "# create layers point cloud\n",
    "layers_point_cloud = o3d.geometry.PointCloud()\n",
    "layers_point_cloud.points = o3d.utility.Vector3dVector(np.vstack((ilm_points, rpe_points)))\n",
    "layers_point_cloud.colors = o3d.utility.Vector3dVector(np.vstack((ilm_colors, rpe_colors)))\n",
    "\n",
    "print('needle tip coords:', needle_tip_coords)"
   ]
  },
  {
   "cell_type": "code",
   "execution_count": 16,
   "metadata": {},
   "outputs": [
    {
     "name": "stdout",
     "output_type": "stream",
     "text": [
      "[[  0. 291. 755.]] [[  0.         395.00012207 755.        ]]\n"
     ]
    }
   ],
   "source": [
    "# find in the new 3D volume where the pixels corresponding to ilm and rpe are at the needle tip\n",
    "ilm_tip_coords = ilm_points[(ilm_points[:, 0] == needle_tip_coords[0]) & (ilm_points[:, 2] == needle_tip_coords[2])]\n",
    "rpe_tip_coords = rpe_points[(rpe_points[:, 0] == needle_tip_coords[0]) & (rpe_points[:, 2] == needle_tip_coords[2])]\n",
    "\n",
    "print(ilm_tip_coords, rpe_tip_coords)\n",
    "\n",
    "ilm_sphere = create_mesh_sphere(ilm_tip_coords[0], radius=2, color=[0,0,0])\n",
    "rpe_sphere = create_mesh_sphere(rpe_tip_coords[0], radius=2, color=[0,0,0])"
   ]
  },
  {
   "cell_type": "code",
   "execution_count": 17,
   "metadata": {},
   "outputs": [
    {
     "name": "stdout",
     "output_type": "stream",
     "text": [
      "needle tip depth relative percentage: 0.6730761330517895\n"
     ]
    }
   ],
   "source": [
    "_, _, needle_tip_depth_relative_percentage = calculate_needle_tip_depth(needle_tip_coords, ilm_tip_coords[0], rpe_tip_coords[0])\n",
    "print('needle tip depth relative percentage:', needle_tip_depth_relative_percentage)"
   ]
  },
  {
   "cell_type": "code",
   "execution_count": 18,
   "metadata": {},
   "outputs": [
    {
     "data": {
      "text/plain": [
       "TriangleMesh with 102 points and 200 triangles."
      ]
     },
     "execution_count": 18,
     "metadata": {},
     "output_type": "execute_result"
    }
   ],
   "source": [
    "# create needle tip annotation\n",
    "needle_tip_sphere = create_mesh_sphere(needle_tip_coords)\n",
    "\n",
    "# add cylinder goind through needle tip intersecting ilm and rpe\n",
    "ascan_cylinder = o3d.geometry.TriangleMesh.create_cylinder(radius=0.3, height=500)\n",
    "transform = np.array([\n",
    "    [1, 0, 0, needle_tip_coords[0]],\n",
    "    [0, 0, 1, needle_tip_coords[1]],\n",
    "    [0, -1, 0, needle_tip_coords[2]],\n",
    "    [0, 0, 0, 1]\n",
    "])\n",
    "ascan_cylinder.transform(transform)"
   ]
  },
  {
   "cell_type": "code",
   "execution_count": 19,
   "metadata": {},
   "outputs": [
    {
     "ename": "",
     "evalue": "",
     "output_type": "error",
     "traceback": [
      "\u001b[1;31mThe Kernel crashed while executing code in the current cell or a previous cell. \n",
      "\u001b[1;31mPlease review the code in the cell(s) to identify a possible cause of the failure. \n",
      "\u001b[1;31mClick <a href='https://aka.ms/vscodeJupyterKernelCrash'>here</a> for more info. \n",
      "\u001b[1;31mView Jupyter <a href='command:jupyter.viewOutput'>log</a> for further details."
     ]
    }
   ],
   "source": [
    "vis = o3d.visualization.Visualizer()\n",
    "\n",
    "vis.create_window()\n",
    "vis.add_geometry(cleaned_needle_point_cloud)\n",
    "vis.add_geometry(layers_point_cloud)\n",
    "\n",
    "vis.add_geometry(needle_tip_sphere)\n",
    "vis.add_geometry(ilm_sphere)\n",
    "vis.add_geometry(rpe_sphere)\n",
    "vis.add_geometry(ascan_cylinder)\n",
    "vis.run()\n",
    "vis.destroy_window()"
   ]
  },
  {
   "cell_type": "code",
   "execution_count": 197,
   "metadata": {},
   "outputs": [
    {
     "name": "stdout",
     "output_type": "stream",
     "text": [
      "point cloud has 5 clustersPrecompute neighbors.[=>                                      ] 2%\n",
      "Precompute neighbors.[========================================] 100%\n",
      "Clustering[==================================>     ] 85%\r"
     ]
    }
   ],
   "source": [
    "# Unchanged point cloud\n",
    "original_needle_pc = create_point_cloud_from_vol(seg_volume, seg_index=[1])\n",
    "original_ilm_pc = create_point_cloud_from_vol(seg_volume, seg_index=[2])\n",
    "original_rpe_pc = create_point_cloud_from_vol(seg_volume, seg_index=[3])\n",
    "\n",
    "noise_removed = remove_outliers(original_needle_pc, nb_points=5, radius=4)\n",
    "\n",
    "labels = np.array(\n",
    "        noise_removed.cluster_dbscan(eps=5, min_points=10, print_progress=True))\n",
    "\n",
    "import matplotlib.pyplot as plt\n",
    "\n",
    "max_label = labels.max()\n",
    "print(f\"point cloud has {max_label + 1} clusters\")\n",
    "colors = plt.get_cmap(\"tab20\")(labels / (max_label if max_label > 0 else 1))\n",
    "colors[labels < 0] = 0\n",
    "noise_removed.colors = o3d.utility.Vector3dVector(colors[:, :3])\n",
    "o3d.visualization.draw_geometries([noise_removed])\n",
    "\n",
    "# o3d.visualization.draw_geometries([original_needle_pc])\n"
   ]
  }
 ],
 "metadata": {
  "kernelspec": {
   "display_name": "needle-seg",
   "language": "python",
   "name": "python3"
  },
  "language_info": {
   "codemirror_mode": {
    "name": "ipython",
    "version": 3
   },
   "file_extension": ".py",
   "mimetype": "text/x-python",
   "name": "python",
   "nbconvert_exporter": "python",
   "pygments_lexer": "ipython3",
   "version": "3.12.2"
  }
 },
 "nbformat": 4,
 "nbformat_minor": 2
}
